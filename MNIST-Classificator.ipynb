{
 "cells": [
  {
   "cell_type": "code",
   "execution_count": 45,
   "metadata": {},
   "outputs": [],
   "source": [
    "# Import required libraries\n",
    "import tensorflow as tf # For model construction we'll use tensorflow and keras\n",
    "from tensorflow import keras\n",
    "from tensorflow.keras import layers\n",
    "from keras.datasets import mnist # MNIST dataset\n",
    "import numpy as np\n",
    "import matplotlib.pyplot as plt # To plot\n",
    "import seaborn as sns\n",
    "from sklearn.metrics import f1_score, precision_score, recall_score, confusion_matrix # Evaluation metrics\n",
    "from sklearn.metrics import confusion_matrix\n",
    "\n",
    "# Note: if you're working without a GPU and have issues installing tensorflow you can try:\n",
    "# pip install tensorflow-cpu"
   ]
  },
  {
   "cell_type": "code",
   "execution_count": 46,
   "metadata": {},
   "outputs": [],
   "source": [
    "# The dataset already comes splitted\n",
    "(x_train, y_train), (x_test, y_test) = mnist.load_data()"
   ]
  },
  {
   "cell_type": "code",
   "execution_count": 47,
   "metadata": {},
   "outputs": [
    {
     "name": "stdout",
     "output_type": "stream",
     "text": [
      "(60000, 28, 28) (60000,)\n",
      "(10000, 28, 28) (10000,)\n"
     ]
    }
   ],
   "source": [
    "# The datasets consists of 28x28 sized images for every digit with their respectiv layer\n",
    "print(x_train.shape, y_train.shape)\n",
    "print(x_test.shape, y_test.shape)"
   ]
  },
  {
   "cell_type": "code",
   "execution_count": 48,
   "metadata": {},
   "outputs": [
    {
     "data": {
      "text/plain": [
       "Text(0.5, 1.0, 'Digit is 5')"
      ]
     },
     "execution_count": 48,
     "metadata": {},
     "output_type": "execute_result"
    },
    {
     "data": {
      "image/png": "[encoded data removed]",
      "text/plain": [
       "<Figure size 144x144 with 1 Axes>"
      ]
     },
     "metadata": {
      "needs_background": "light"
     },
     "output_type": "display_data"
    }
   ],
   "source": [
    "# Visualizing an example from the training set to see how the dataset looks\n",
    "\n",
    "fig, ax = plt.subplots(1, figsize=(2,2))\n",
    "ax.imshow(x_train[0], cmap='coolwarm') # First digit from the train set\n",
    "ax.set_title(f'Digit is {y_train[0]}', fontsize=16) # Label is"
   ]
  },
  {
   "cell_type": "code",
   "execution_count": 49,
   "metadata": {},
   "outputs": [],
   "source": [
    "# We transform the labels into categories taken into account the number of classes (10 digits)\n",
    "num_classes = 10\n",
    "y_train = keras.utils.to_categorical(y_train, num_classes)\n",
    "y_test = keras.utils.to_categorical(y_test, num_classes)"
   ]
  },
  {
   "cell_type": "code",
   "execution_count": 50,
   "metadata": {},
   "outputs": [],
   "source": [
    "# We then normalize the features and reshape them so\n",
    "#  the input is a 1D vector that takes values from 0 to 1\n",
    "\n",
    "# Normalize the features\n",
    "x_train = x_train / 255.0\n",
    "x_test = x_test / 255.0\n",
    "\n",
    "# Reshape the features\n",
    "x_train = x_train.reshape(x_train.shape[0], -1)\n",
    "x_test = x_test.reshape(x_test.shape[0], -1)"
   ]
  },
  {
   "cell_type": "code",
   "execution_count": 51,
   "metadata": {},
   "outputs": [
    {
     "data": {
      "text/plain": [
       "784"
      ]
     },
     "execution_count": 51,
     "metadata": {},
     "output_type": "execute_result"
    }
   ],
   "source": [
    "28*28"
   ]
  },
  {
   "cell_type": "code",
   "execution_count": 52,
   "metadata": {},
   "outputs": [
    {
     "name": "stdout",
     "output_type": "stream",
     "text": [
      "Model: \"sequential_2\"\n",
      "_________________________________________________________________\n",
      " Layer (type)                Output Shape              Param #   \n",
      "=================================================================\n",
      " dense_15 (Dense)            (None, 128)               100480    \n",
      "                                                                 \n",
      " dense_16 (Dense)            (None, 128)               16512     \n",
      "                                                                 \n",
      " dense_17 (Dense)            (None, 10)                1290      \n",
      "                                                                 \n",
      "=================================================================\n",
      "Total params: 118,282\n",
      "Trainable params: 118,282\n",
      "Non-trainable params: 0\n",
      "_________________________________________________________________\n"
     ]
    }
   ],
   "source": [
    "# We will then create a model using tensorflow's sequential method\n",
    "\n",
    "model = keras.Sequential(\n",
    "    [\n",
    "        layers.Dense(input_shape=(28*28,), units=128, activation='relu'),\n",
    "        layers.Dense(units=128, activation='relu'),\n",
    "        layers.Dense(units=10, activation='softmax')\n",
    "    ]\n",
    ")\n",
    "\n",
    "model.compile(loss='categorical_crossentropy', optimizer='adam', metrics=['accuracy'])\n",
    "\n",
    "model.summary()"
   ]
  },
  {
   "cell_type": "code",
   "execution_count": 53,
   "metadata": {},
   "outputs": [
    {
     "name": "stdout",
     "output_type": "stream",
     "text": [
      "Epoch 1/10\n",
      "118/118 [==============================] - 1s 7ms/step - loss: 0.5216 - accuracy: 0.8607\n",
      "Epoch 2/10\n",
      "118/118 [==============================] - 1s 8ms/step - loss: 0.1986 - accuracy: 0.9422\n",
      "Epoch 3/10\n",
      "118/118 [==============================] - 1s 7ms/step - loss: 0.1448 - accuracy: 0.9578\n",
      "Epoch 4/10\n",
      "118/118 [==============================] - 1s 8ms/step - loss: 0.1159 - accuracy: 0.9664\n",
      "Epoch 5/10\n",
      "118/118 [==============================] - 1s 8ms/step - loss: 0.0939 - accuracy: 0.9725\n",
      "Epoch 6/10\n",
      "118/118 [==============================] - 1s 7ms/step - loss: 0.0808 - accuracy: 0.9764\n",
      "Epoch 7/10\n",
      "118/118 [==============================] - 1s 8ms/step - loss: 0.0686 - accuracy: 0.9797\n",
      "Epoch 8/10\n",
      "118/118 [==============================] - 1s 7ms/step - loss: 0.0580 - accuracy: 0.9833\n",
      "Epoch 9/10\n",
      "118/118 [==============================] - 1s 8ms/step - loss: 0.0491 - accuracy: 0.9858\n",
      "Epoch 10/10\n",
      "118/118 [==============================] - 1s 8ms/step - loss: 0.0428 - accuracy: 0.9876\n"
     ]
    },
    {
     "data": {
      "text/plain": [
       "<keras.callbacks.History at 0x217d17c9a60>"
      ]
     },
     "execution_count": 53,
     "metadata": {},
     "output_type": "execute_result"
    }
   ],
   "source": [
    "# Traning the model\n",
    "batch_size = 512\n",
    "epochs = 10\n",
    "model.fit(x=x_train, y=y_train, batch_size=batch_size, epochs=epochs)"
   ]
  },
  {
   "cell_type": "code",
   "execution_count": 58,
   "metadata": {},
   "outputs": [
    {
     "name": "stdout",
     "output_type": "stream",
     "text": [
      "313/313 [==============================] - 1s 2ms/step\n"
     ]
    }
   ],
   "source": [
    "# Predicting on the test set and turning it into a 1D vector\n",
    "y_pred1 = model.predict(x_test)\n",
    "y_pred = np.argmax(y_pred1, axis=1)\n",
    "\n",
    "y_test = np.argmax(y_test, axis=1)"
   ]
  },
  {
   "cell_type": "code",
   "execution_count": 59,
   "metadata": {},
   "outputs": [
    {
     "data": {
      "image/png": "[encoded data removed]",
      "text/plain": [
       "<Figure size 1080x720 with 2 Axes>"
      ]
     },
     "metadata": {
      "needs_background": "light"
     },
     "output_type": "display_data"
    }
   ],
   "source": [
    "# First lets get an idea of how good our model is looking at its confusion matrix\n",
    "\n",
    "confusion_mtx = confusion_matrix(y_test, y_pred)\n",
    "\n",
    "# Plot\n",
    "fig, ax = plt.subplots(figsize=(15,10))\n",
    "ax = sns.heatmap(confusion_mtx, annot=True, fmt='d', ax=ax, cmap='coolwarm')\n",
    "ax.set_xlabel('Predicted Label')\n",
    "ax.set_ylabel('True Label')\n",
    "ax.set_title('Confusion Matrix');"
   ]
  },
  {
   "cell_type": "code",
   "execution_count": 60,
   "metadata": {},
   "outputs": [
    {
     "name": "stdout",
     "output_type": "stream",
     "text": [
      "model precision is 0.973\n",
      "model recall is 0.974\n",
      "model f1 score is 0.973\n"
     ]
    }
   ],
   "source": [
    "# Print f1, precision, and recall scores\n",
    "precision = precision_score(y_test, y_pred , average=\"macro\")\n",
    "recall = recall_score(y_test, y_pred , average=\"macro\")\n",
    "f1_score = f1_score(y_test, y_pred , average=\"macro\")\n",
    "print(f'model precision is {round(precision, 3)}')\n",
    "print(f'model recall is {round(recall, 3)}')\n",
    "print(f'model f1 score is {round(f1_score, 3)}')"
   ]
  }
 ],
 "metadata": {
  "kernelspec": {
   "display_name": "Python 3.9.6 64-bit",
   "language": "python",
   "name": "python3"
  },
  "language_info": {
   "codemirror_mode": {
    "name": "ipython",
    "version": 3
   },
   "file_extension": ".py",
   "mimetype": "text/x-python",
   "name": "python",
   "nbconvert_exporter": "python",
   "pygments_lexer": "ipython3",
   "version": "3.9.6"
  },
  "orig_nbformat": 4,
  "vscode": {
   "interpreter": {
    "hash": "11938c6bc6919ae2720b4d5011047913343b08a43b18698fd82dedb0d4417594"
   }
  }
 },
 "nbformat": 4,
 "nbformat_minor": 2
}
